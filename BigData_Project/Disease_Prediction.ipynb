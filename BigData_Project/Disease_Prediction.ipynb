{
 "cells": [
  {
   "cell_type": "code",
   "execution_count": 109,
   "metadata": {
    "collapsed": true
   },
   "outputs": [],
   "source": [
    "import os\n",
    "import sys\n",
    "\n",
    "#Set the path for Spark installation\n",
    "os.environ['SPARK_HOME'] = \"C:/spark\"\n",
    "\n",
    "#append to python path so that pyspark could be found\n",
    "sys.path.append(\"C:/spark/bin\")\n",
    "sys.path.append(\"C:/spark/python\")\n",
    "sys.path.append(\"C:/spark/python/pyspark\")\n",
    "sys.path.append(\"C:/spark/python/lib\")\n",
    "sys.path.append(\"C:/spark/python/lib/pyspark.zip\")\n",
    "sys.path.append(\"C:/spark/python/lib/py4j-0.10.4-src.zip\")\n",
    "sys.path.append(\"C:/java/bin\")"
   ]
  },
  {
   "cell_type": "code",
   "execution_count": 111,
   "metadata": {},
   "outputs": [],
   "source": [
    "from __future__ import print_function\n",
    "import pandas as panda\n",
    "import numpy as nump\n",
    "from matplotlib import pyplot as matplt\n",
    "import seaborn as sb\n",
    "%matplotlib inline"
   ]
  },
  {
   "cell_type": "code",
   "execution_count": 112,
   "metadata": {},
   "outputs": [],
   "source": [
    "from pyspark import SparkConf\n",
    "from pyspark import SparkContext\n",
    "from pyspark.sql import SparkSession\n",
    "from pyspark.sql.functions import *\n",
    "from pyspark import rdd\n",
    "from pyspark.ml.feature import VectorAssembler\n",
    "from pyspark.ml.linalg import Vectors\n",
    "from pyspark.ml import pipeline\n",
    "from pyspark.ml.regression import RandomForestRegressor\n",
    "from pyspark.ml.evaluation import RegressionEvaluator"
   ]
  },
  {
   "cell_type": "code",
   "execution_count": 113,
   "metadata": {},
   "outputs": [],
   "source": [
    "spark = SparkSession.builder\\\n",
    "        .master(\"local\")\\\n",
    "        .appName(\"DenAI\")\\\n",
    "        .config(conf=SparkConf())\\\n",
    "        .getOrCreate()"
   ]
  },
  {
   "cell_type": "code",
   "execution_count": 114,
   "metadata": {},
   "outputs": [],
   "source": [
    "path1 = \"/Users/dheer/Documents/DengAI/dengue_features_train.csv\"\n",
    "train_features = spark.read.option(\"header\", \"true\").option(\"inferSchema\", \"true\").csv(path1)\n",
    "\n",
    "path2 = \"/Users/dheer/Documents/DengAI/dengue_labels_train.csv\"\n",
    "train_labels = spark.read.option(\"header\", \"true\").option(\"inferSchema\", \"true\").csv(path2)\n",
    "\n",
    "path3 = \"/Users/dheer/Documents/DengAI/dengue_features_test.csv\"\n",
    "test_features = spark.read.option(\"header\", \"true\").option(\"inferSchema\", \"true\").csv(path3)"
   ]
  },
  {
   "cell_type": "code",
   "execution_count": 115,
   "metadata": {},
   "outputs": [],
   "source": [
    "train_labels = train_labels.select(train_labels.city.alias(\"city_l\"),\n",
    "                            train_labels.year.alias(\"year_l\"),\n",
    "                            train_labels.weekofyear.alias(\"weekofyear_l\"),\n",
    "                            train_labels.total_cases.alias(\"total_cases\"))"
   ]
  },
  {
   "cell_type": "code",
   "execution_count": 116,
   "metadata": {},
   "outputs": [],
   "source": [
    "train_features = train_features.withColumn(\"month\", month(\"week_start_date\"))"
   ]
  },
  {
   "cell_type": "code",
   "execution_count": 117,
   "metadata": {},
   "outputs": [],
   "source": [
    "train = train_features.join(train_labels,\n",
    "                            ((train_features.city == train_labels.city_l) &\n",
    "                             (train_features.year == train_labels.year_l) &\n",
    "                             (train_features.weekofyear == train_labels.weekofyear_l)), 'inner')"
   ]
  },
  {
   "cell_type": "code",
   "execution_count": 118,
   "metadata": {},
   "outputs": [],
   "source": [
    "train = train.drop(\"city_l\", \"year_l\", \"weekofyear_l\", \"week_start_date\")"
   ]
  },
  {
   "cell_type": "code",
   "execution_count": 119,
   "metadata": {},
   "outputs": [],
   "source": [
    "train_pd = train.toPandas()"
   ]
  },
  {
   "cell_type": "code",
   "execution_count": 120,
   "metadata": {},
   "outputs": [],
   "source": [
    "train_pd.fillna(method = 'ffill', inplace = True)"
   ]
  },
  {
   "cell_type": "code",
   "execution_count": 121,
   "metadata": {},
   "outputs": [],
   "source": [
    "train = spark.createDataFrame(train_pd)"
   ]
  },
  {
   "cell_type": "code",
   "execution_count": 122,
   "metadata": {},
   "outputs": [],
   "source": [
    "sj_trainData = train.filter(train.city == 'sj')\n",
    "\n",
    "iq_trainData = train.filter(train.city == 'iq')"
   ]
  },
  {
   "cell_type": "code",
   "execution_count": 123,
   "metadata": {},
   "outputs": [],
   "source": [
    "sj = sj_trainData.select('ndvi_se', 'month','reanalysis_specific_humidity_g_per_kg', 'station_min_temp_c', \n",
    "                         'reanalysis_tdtr_k', 'reanalysis_max_air_temp_k', col('total_cases').alias('label'))"
   ]
  },
  {
   "cell_type": "code",
   "execution_count": 124,
   "metadata": {},
   "outputs": [],
   "source": [
    "iq = iq_trainData.select('ndvi_se', 'month', 'reanalysis_specific_humidity_g_per_kg','station_min_temp_c', \n",
    "                         'reanalysis_tdtr_k', 'reanalysis_max_air_temp_k',col('total_cases').alias('label'))"
   ]
  },
  {
   "cell_type": "code",
   "execution_count": 125,
   "metadata": {},
   "outputs": [],
   "source": [
    "assembler = VectorAssembler().setInputCols([\n",
    "    'ndvi_se', 'month', 'reanalysis_specific_humidity_g_per_kg',\n",
    "    'station_min_temp_c', 'reanalysis_tdtr_k', 'reanalysis_max_air_temp_k']).setOutputCol('features')"
   ]
  },
  {
   "cell_type": "code",
   "execution_count": 126,
   "metadata": {},
   "outputs": [],
   "source": [
    "rf = RandomForestRegressor(labelCol = 'label', featuresCol=\"features\", numTrees=10, maxDepth=3, maxBins=10)"
   ]
  },
  {
   "cell_type": "code",
   "execution_count": 127,
   "metadata": {},
   "outputs": [],
   "source": [
    "sj = assembler.transform(sj).select('label', 'features')\n",
    "\n",
    "iq = assembler.transform(iq).select('label', 'features')"
   ]
  },
  {
   "cell_type": "code",
   "execution_count": 128,
   "metadata": {},
   "outputs": [],
   "source": [
    "sj_training, sj_validation = sj.randomSplit([0.75,0.25], seed=0L)\n",
    "iq_training, iq_validation = iq.randomSplit([0.75,0.25], seed=0L)"
   ]
  },
  {
   "cell_type": "code",
   "execution_count": 132,
   "metadata": {},
   "outputs": [],
   "source": [
    "sjModel = rf.fit(sj_training)\n",
    "iqModel = rf.fit(iq_training)"
   ]
  },
  {
   "cell_type": "code",
   "execution_count": 133,
   "metadata": {},
   "outputs": [],
   "source": [
    "sj_valid_pred = sjModel.transform(sj_validation)\n",
    "iq_valid_pred = iqModel.transform(iq_validation)"
   ]
  },
  {
   "cell_type": "code",
   "execution_count": 134,
   "metadata": {},
   "outputs": [],
   "source": [
    "evaluator = RegressionEvaluator(labelCol=\"label\", predictionCol=\"prediction\", metricName=\"mae\")"
   ]
  },
  {
   "cell_type": "code",
   "execution_count": 135,
   "metadata": {},
   "outputs": [],
   "source": [
    "sj_MeanAbsError = evaluator.evaluate(sj_valid_pred)\n",
    "iq_MeanAbsError = evaluator.evaluate(iq_valid_pred)"
   ]
  },
  {
   "cell_type": "code",
   "execution_count": 136,
   "metadata": {},
   "outputs": [
    {
     "name": "stdout",
     "output_type": "stream",
     "text": [
      "Mean Absolute Error (MAE) on sj data = 25.1474411653\n"
     ]
    }
   ],
   "source": [
    "print(\"Mean Absolute Error (MAE) on sj data = \" + str(sj_MeanAbsError))"
   ]
  },
  {
   "cell_type": "code",
   "execution_count": 137,
   "metadata": {},
   "outputs": [
    {
     "name": "stdout",
     "output_type": "stream",
     "text": [
      "Mean Absolute Error (MAE) on iq data = 7.96109714168\n"
     ]
    }
   ],
   "source": [
    "print(\"Mean Absolute Error (MAE) on iq data = \" + str(iq_MeanAbsError))"
   ]
  },
  {
   "cell_type": "code",
   "execution_count": 138,
   "metadata": {},
   "outputs": [],
   "source": [
    "trainData = assembler.transform(train).select(\"city\", col(\"total_cases\").alias(\"label\"), \"features\")"
   ]
  },
  {
   "cell_type": "code",
   "execution_count": 139,
   "metadata": {},
   "outputs": [],
   "source": [
    "training, validation = trainData.randomSplit([0.7,0.3], seed=0L)"
   ]
  },
  {
   "cell_type": "code",
   "execution_count": 140,
   "metadata": {},
   "outputs": [],
   "source": [
    "sj_training = training.filter(training.city == \"sj\")\n",
    "iq_training = training.filter(training.city == \"iq\")"
   ]
  },
  {
   "cell_type": "code",
   "execution_count": 141,
   "metadata": {},
   "outputs": [],
   "source": [
    "sj_validation = validation.filter(validation.city == \"sj\")\n",
    "iq_validation = validation.filter(validation.city == \"iq\")"
   ]
  },
  {
   "cell_type": "code",
   "execution_count": 143,
   "metadata": {},
   "outputs": [],
   "source": [
    "sjModel = rf.fit(sj_training)\n",
    "iqModel = rf.fit(iq_training)"
   ]
  },
  {
   "cell_type": "code",
   "execution_count": 144,
   "metadata": {},
   "outputs": [],
   "source": [
    "sj_valid_pred = sjModel.transform(sj_validation)\n",
    "iq_valid_pred = iqModel.transform(iq_validation)"
   ]
  },
  {
   "cell_type": "code",
   "execution_count": 145,
   "metadata": {},
   "outputs": [],
   "source": [
    "pred = sj_valid_pred.unionAll(iq_valid_pred).select(\"label\", \"prediction\")"
   ]
  },
  {
   "cell_type": "code",
   "execution_count": 146,
   "metadata": {},
   "outputs": [],
   "source": [
    "eval = evaluator.evaluate(pred)"
   ]
  },
  {
   "cell_type": "code",
   "execution_count": 147,
   "metadata": {},
   "outputs": [
    {
     "name": "stdout",
     "output_type": "stream",
     "text": [
      "Mean Absolute Error (MAE) on Validation data = 19.4348778419\n"
     ]
    }
   ],
   "source": [
    "print(\"Mean Absolute Error (MAE) on Validation data = \" + str(eval))"
   ]
  },
  {
   "cell_type": "heading",
   "metadata": {},
   "level": 1,
   "source": [
    "PCA"
   ]
  },
  {
   "cell_type": "code",
   "execution_count": 148,
   "metadata": {},
   "outputs": [],
   "source": [
    "from pyspark.ml.feature import PCA"
   ]
  },
  {
   "cell_type": "code",
   "execution_count": 149,
   "metadata": {},
   "outputs": [],
   "source": [
    "features_assembler = VectorAssembler().setInputCols(train.columns[3:24]).setOutputCol('features')"
   ]
  },
  {
   "cell_type": "code",
   "execution_count": 150,
   "metadata": {},
   "outputs": [],
   "source": [
    "train_pca = features_assembler.transform(train).select(\"city\", col(\"total_cases\").alias(\"label\"), \"features\")"
   ]
  },
  {
   "cell_type": "code",
   "execution_count": 151,
   "metadata": {},
   "outputs": [],
   "source": [
    "dimpca = PCA(k=10, inputCol=\"features\", outputCol=\"pca_features\")"
   ]
  },
  {
   "cell_type": "code",
   "execution_count": 152,
   "metadata": {
    "collapsed": false
   },
   "outputs": [],
   "source": [
    "train_pca_model = dimpca.fit(train_pca)"
   ]
  },
  {
   "cell_type": "code",
   "execution_count": 153,
   "metadata": {},
   "outputs": [],
   "source": [
    "train_pca_data = train_pca_model.transform(train_pca)"
   ]
  },
  {
   "cell_type": "code",
   "execution_count": 154,
   "metadata": {},
   "outputs": [],
   "source": [
    "train_pca_data = train_pca_data.select(\"city\", \"label\", col(\"pca_features\").alias(\"features\"))"
   ]
  },
  {
   "cell_type": "code",
   "execution_count": 155,
   "metadata": {},
   "outputs": [],
   "source": [
    "pca_training, pca_validation = train_pca_data.randomSplit([0.7, 0.3], seed=0L)"
   ]
  },
  {
   "cell_type": "code",
   "execution_count": 156,
   "metadata": {},
   "outputs": [],
   "source": [
    "sj_pca_training = pca_training.filter(pca_training.city == \"sj\")\n",
    "iq_pca_training = pca_training.filter(pca_training.city == \"iq\")"
   ]
  },
  {
   "cell_type": "code",
   "execution_count": 157,
   "metadata": {},
   "outputs": [],
   "source": [
    "sj_pca_validation = pca_validation.filter(pca_validation.city == \"sj\")\n",
    "iq_pca_validation = pca_validation.filter(pca_validation.city == \"iq\")"
   ]
  },
  {
   "cell_type": "code",
   "execution_count": 158,
   "metadata": {},
   "outputs": [],
   "source": [
    "sj_pca_model = rf.fit(sj_pca_training)\n",
    "iq_pca_model = rf.fit(iq_pca_training)"
   ]
  },
  {
   "cell_type": "code",
   "execution_count": 159,
   "metadata": {},
   "outputs": [],
   "source": [
    "sj_pca_pred = sj_pca_model.transform(sj_pca_validation)\n",
    "iq_pca_pred = iq_pca_model.transform(iq_pca_validation)"
   ]
  },
  {
   "cell_type": "code",
   "execution_count": 160,
   "metadata": {},
   "outputs": [],
   "source": [
    "pca_pred = sj_pca_pred.unionAll(iq_pca_pred)"
   ]
  },
  {
   "cell_type": "code",
   "execution_count": 161,
   "metadata": {},
   "outputs": [],
   "source": [
    "pca_MAE = evaluator.evaluate(pca_pred)"
   ]
  },
  {
   "cell_type": "code",
   "execution_count": 162,
   "metadata": {},
   "outputs": [
    {
     "name": "stdout",
     "output_type": "stream",
     "text": [
      "Mean Absolute Error (MAE) on PCA transformed data = 19.5247280502\n"
     ]
    }
   ],
   "source": [
    "print(\"Mean Absolute Error (MAE) on PCA transformed data = \" + str(pca_MAE))"
   ]
  },
  {
   "cell_type": "code",
   "execution_count": 163,
   "metadata": {},
   "outputs": [],
   "source": [
    "MAE = []"
   ]
  },
  {
   "cell_type": "code",
   "execution_count": 164,
   "metadata": {},
   "outputs": [],
   "source": [
    "for i in range(1,22):\n",
    "    dimpca = PCA(k=i, inputCol=\"features\", outputCol=\"pca_features\")\n",
    "    \n",
    "    train_pca_model = dimpca.fit(train_pca)\n",
    "    train_pca_data = train_pca_model.transform(train_pca)\n",
    "    \n",
    "    train_pca_data = train_pca_data.select(\"city\", \"label\", col(\"pca_features\").alias(\"features\"))\n",
    "    pca_training, pca_validation = train_pca_data.randomSplit([0.7, 0.3], seed=0L)\n",
    "    \n",
    "    sj_pca_training = pca_training.filter(pca_training.city == \"sj\")\n",
    "    iq_pca_training = pca_training.filter(pca_training.city == \"iq\")\n",
    "    sj_pca_validation = pca_validation.filter(pca_validation.city == \"sj\")\n",
    "    iq_pca_validation = pca_validation.filter(pca_validation.city == \"iq\")\n",
    "    \n",
    "    sj_pca_model = rf.fit(sj_pca_training)\n",
    "    iq_pca_model = rf.fit(iq_pca_training)\n",
    "    \n",
    "    sj_pca_pred = sj_pca_model.transform(sj_pca_validation)\n",
    "    iq_pca_pred = iq_pca_model.transform(iq_pca_validation)\n",
    "    \n",
    "    pca_pred = sj_pca_pred.unionAll(iq_pca_pred)\n",
    "    MAE.append(evaluator.evaluate(pca_pred))"
   ]
  },
  {
   "cell_type": "code",
   "execution_count": 52,
   "metadata": {},
   "outputs": [
    {
     "data": {
      "text/plain": [
       "[21.939140878284103,\n 21.63323181077667,\n 21.589274828398974,\n 21.587911462607373,\n 20.616462184966732,\n 19.683459151290602,\n 18.981344766286174,\n 19.18494246753609,\n 19.091503999986976,\n 19.52472805018948,\n 19.40112005001866,\n 19.323960124060505,\n 19.3999706509447,\n 19.248330946845467,\n 19.407245624578813,\n 19.511210364709754,\n 19.440189834479682,\n 19.46659648379723,\n 19.68984212491797,\n 19.22605004248523,\n 19.392898552092838]"
      ]
     },
     "execution_count": 52,
     "metadata": {},
     "output_type": "execute_result"
    }
   ],
   "source": [
    "MAE"
   ]
  },
  {
   "cell_type": "code",
   "execution_count": 165,
   "metadata": {},
   "outputs": [
    {
     "data": {
      "text/plain": [
       "18.981344766286174"
      ]
     },
     "execution_count": 165,
     "metadata": {},
     "output_type": "execute_result"
    }
   ],
   "source": [
    "MAE[6]"
   ]
  },
  {
   "cell_type": "code",
   "execution_count": 166,
   "metadata": {},
   "outputs": [],
   "source": [
    "from pyspark.ml.regression import GeneralizedLinearRegression"
   ]
  },
  {
   "cell_type": "code",
   "execution_count": 167,
   "metadata": {},
   "outputs": [
    {
     "name": "stdout",
     "output_type": "stream",
     "text": [
      "Mean Absolute Error (MAE) on GLM model data = 20.8204295766\n"
     ]
    }
   ],
   "source": [
    "glr = GeneralizedLinearRegression(family=\"poisson\", link=\"sqrt\", maxIter=5, regParam=0.3)\n",
    "\n",
    "sj_glmmodel = glr.fit(sj_training)\n",
    "iq_glmmodel = glr.fit(iq_training)\n",
    "\n",
    "sj_glmPred = sj_glmmodel.transform(sj_validation)\n",
    "iq_glmPred = iq_glmmodel.transform(iq_validation)\n",
    "\n",
    "glmPred = sj_glmPred.unionAll(iq_glmPred)\n",
    "\n",
    "glmMae = evaluator.evaluate(glmPred)\n",
    "\n",
    "print(\"Mean Absolute Error (MAE) on GLM model data = \" + str(glmMae))"
   ]
  },
  {
   "cell_type": "code",
   "execution_count": 168,
   "metadata": {},
   "outputs": [],
   "source": [
    "glm_MAE = []"
   ]
  },
  {
   "cell_type": "code",
   "execution_count": 169,
   "metadata": {},
   "outputs": [],
   "source": [
    "for i in [0.1,0.3,0.5,0.7,0.9]:\n",
    "    glr = GeneralizedLinearRegression(family=\"poisson\", link=\"sqrt\", maxIter=5, regParam=i)\n",
    "    \n",
    "    sj_glmmodel = glr.fit(sj_training)\n",
    "    iq_glmmodel = glr.fit(iq_training)\n",
    "    \n",
    "    sj_glmPred = sj_glmmodel.transform(sj_validation)\n",
    "    iq_glmPred = iq_glmmodel.transform(iq_validation)\n",
    "    \n",
    "    glmPred = sj_glmPred.unionAll(iq_glmPred)\n",
    "    glm_MAE.append(evaluator.evaluate(glmPred))"
   ]
  },
  {
   "cell_type": "code",
   "execution_count": 170,
   "metadata": {},
   "outputs": [
    {
     "data": {
      "text/plain": [
       "[20.834510978879216,\n 20.8204295765504,\n 20.801766427710938,\n 20.779624283328385,\n 20.76202379948141]"
      ]
     },
     "execution_count": 170,
     "metadata": {},
     "output_type": "execute_result"
    }
   ],
   "source": [
    "glm_MAE"
   ]
  },
  {
   "cell_type": "code",
   "execution_count": 171,
   "metadata": {},
   "outputs": [],
   "source": [
    "# x=glmPred.select(\"city\", \"prediction\")"
   ]
  },
  {
   "cell_type": "code",
   "execution_count": 172,
   "metadata": {},
   "outputs": [],
   "source": [
    "# x.write.csv(\"result\")"
   ]
  },
  {
   "cell_type": "code",
   "execution_count": 173,
   "metadata": {},
   "outputs": [],
   "source": [
    "dimpca = PCA(k=7, inputCol=\"features\", outputCol=\"pca_features\")\n",
    "\n",
    "train_pca_model = dimpca.fit(train_pca)\n",
    "train_pca_data = train_pca_model.transform(train_pca)\n",
    "\n",
    "train_pca_data = train_pca_data.select(\"city\", \"label\", col(\"pca_features\").alias(\"features\"))\n",
    "pca_training, pca_validation = train_pca_data.randomSplit([0.7, 0.3], seed=0L)\n",
    "    \n",
    "sj_pca_training = pca_training.filter(pca_training.city == \"sj\")\n",
    "iq_pca_training = pca_training.filter(pca_training.city == \"iq\")\n",
    "sj_pca_validation = pca_validation.filter(pca_validation.city == \"sj\")\n",
    "iq_pca_validation = pca_validation.filter(pca_validation.city == \"iq\")"
   ]
  },
  {
   "cell_type": "code",
   "execution_count": 174,
   "metadata": {},
   "outputs": [
    {
     "name": "stdout",
     "output_type": "stream",
     "text": [
      "Mean Absolute Error (MAE) on GLM model data = 19.64218437\n"
     ]
    }
   ],
   "source": [
    "glr = GeneralizedLinearRegression(family=\"poisson\", link=\"sqrt\", maxIter=5, regParam=0.9)\n",
    "\n",
    "sj_glmmodel = glr.fit(sj_pca_training)\n",
    "iq_glmmodel = glr.fit(iq_pca_training)\n",
    "\n",
    "sj_glmPred = sj_glmmodel.transform(sj_pca_validation)\n",
    "iq_glmPred = iq_glmmodel.transform(iq_pca_validation)\n",
    "\n",
    "glmPred = sj_glmPred.unionAll(iq_glmPred)\n",
    "\n",
    "glmMae = evaluator.evaluate(glmPred)\n",
    "\n",
    "print(\"Mean Absolute Error (MAE) on GLM model data = \" + str(glmMae))"
   ]
  },
  {
   "cell_type": "heading",
   "metadata": {},
   "level": 1,
   "source": [
    "Now main Data"
   ]
  },
  {
   "cell_type": "code",
   "execution_count": 175,
   "metadata": {},
   "outputs": [],
   "source": [
    "training = features_assembler.transform(train).select(\"city\", col(\"total_cases\").alias(\"label\"), \"features\")"
   ]
  },
  {
   "cell_type": "code",
   "execution_count": 176,
   "metadata": {},
   "outputs": [],
   "source": [
    "dimpca = PCA(k=7, inputCol=\"features\", outputCol=\"pca_features\")"
   ]
  },
  {
   "cell_type": "code",
   "execution_count": 177,
   "metadata": {},
   "outputs": [],
   "source": [
    "train_pca_model = dimpca.fit(training)"
   ]
  },
  {
   "cell_type": "code",
   "execution_count": 178,
   "metadata": {},
   "outputs": [],
   "source": [
    "train_pca_data = train_pca_model.transform(training)"
   ]
  },
  {
   "cell_type": "code",
   "execution_count": 179,
   "metadata": {},
   "outputs": [],
   "source": [
    "train_pca_data = train_pca_data.select(\"city\", \"label\", col(\"pca_features\").alias(\"features\"))"
   ]
  },
  {
   "cell_type": "code",
   "execution_count": 180,
   "metadata": {},
   "outputs": [],
   "source": [
    "sj_pca_training = train_pca_data.filter(train_pca_data.city == \"sj\")\n",
    "iq_pca_training = train_pca_data.filter(train_pca_data.city == \"iq\")"
   ]
  },
  {
   "cell_type": "code",
   "execution_count": 181,
   "metadata": {},
   "outputs": [],
   "source": [
    "test_features = test_features.withColumn(\"month\", month(\"week_start_date\"))"
   ]
  },
  {
   "cell_type": "code",
   "execution_count": 182,
   "metadata": {},
   "outputs": [],
   "source": [
    "test_features = test_features.drop(\"week_start_date\")"
   ]
  },
  {
   "cell_type": "code",
   "execution_count": 183,
   "metadata": {},
   "outputs": [],
   "source": [
    "test_pd = test_features.toPandas()"
   ]
  },
  {
   "cell_type": "code",
   "execution_count": 184,
   "metadata": {},
   "outputs": [],
   "source": [
    "test_pd.fillna(method = 'ffill', inplace = True)"
   ]
  },
  {
   "cell_type": "code",
   "execution_count": 185,
   "metadata": {},
   "outputs": [],
   "source": [
    "test_features = spark.createDataFrame(test_pd)"
   ]
  },
  {
   "cell_type": "code",
   "execution_count": 186,
   "metadata": {},
   "outputs": [],
   "source": [
    "testing = features_assembler.transform(test_features).select(\"city\", \"year\", \"weekofyear\", \"features\")"
   ]
  },
  {
   "cell_type": "code",
   "execution_count": 187,
   "metadata": {},
   "outputs": [],
   "source": [
    "test_pca_model = dimpca.fit(testing)\n",
    "test_pca_data = train_pca_model.transform(testing)"
   ]
  },
  {
   "cell_type": "code",
   "execution_count": 188,
   "metadata": {},
   "outputs": [],
   "source": [
    "test_pca_data = test_pca_data.select(\"city\", \"year\", \"weekofyear\",col(\"pca_features\").alias(\"features\"))"
   ]
  },
  {
   "cell_type": "code",
   "execution_count": 189,
   "metadata": {},
   "outputs": [],
   "source": [
    "sj_pca_testing = test_pca_data.filter(test_pca_data.city == \"sj\")\n",
    "iq_pca_testing = test_pca_data.filter(test_pca_data.city == \"iq\")"
   ]
  },
  {
   "cell_type": "code",
   "execution_count": 190,
   "metadata": {},
   "outputs": [],
   "source": [
    "sj_pca_model = rf.fit(sj_pca_training)\n",
    "iq_pca_model = rf.fit(iq_pca_training)"
   ]
  },
  {
   "cell_type": "code",
   "execution_count": 191,
   "metadata": {},
   "outputs": [],
   "source": [
    "sj_pca_pred = sj_pca_model.transform(sj_pca_testing)\n",
    "iq_pca_pred = iq_pca_model.transform(iq_pca_testing)"
   ]
  },
  {
   "cell_type": "code",
   "execution_count": 192,
   "metadata": {},
   "outputs": [],
   "source": [
    "pca_predict = sj_pca_pred.unionAll(iq_pca_pred)"
   ]
  },
  {
   "cell_type": "code",
   "execution_count": 193,
   "metadata": {},
   "outputs": [],
   "source": [
    "y = pca_predict.withColumn(\"total_cases\", round(col(\"prediction\"))).select(\"city\", \"year\", \"weekofyear\", \"total_cases\")"
   ]
  },
  {
   "cell_type": "code",
   "execution_count": 194,
   "metadata": {},
   "outputs": [],
   "source": [
    "# y.coalesce(1).write.csv(\"final\")"
   ]
  },
  {
   "cell_type": "code",
   "execution_count": 195,
   "metadata": {},
   "outputs": [],
   "source": [
    "# y.coalesce(1).write.option(\"header\", \"true\").csv(\"result\")"
   ]
  },
  {
   "cell_type": "code",
   "execution_count": 196,
   "metadata": {},
   "outputs": [],
   "source": [
    "y_pd = y.toPandas()"
   ]
  },
  {
   "cell_type": "code",
   "execution_count": 197,
   "metadata": {},
   "outputs": [],
   "source": [
    "y_pd.total_cases = y_pd.total_cases.astype(int)"
   ]
  },
  {
   "cell_type": "code",
   "execution_count": 198,
   "metadata": {},
   "outputs": [],
   "source": [
    "y_pd.to_csv(\"RFresult.csv\", index=False)"
   ]
  },
  {
   "cell_type": "code",
   "execution_count": 199,
   "metadata": {},
   "outputs": [],
   "source": [
    "sj_pca_glmmodel = glr.fit(sj_pca_training)\n",
    "iq_pca_glmmodel = glr.fit(iq_pca_training)"
   ]
  },
  {
   "cell_type": "code",
   "execution_count": 200,
   "metadata": {},
   "outputs": [],
   "source": [
    "sj_pca_glmpred = sj_pca_glmmodel.transform(sj_pca_testing)\n",
    "iq_pca_glmpred = iq_pca_glmmodel.transform(iq_pca_testing)"
   ]
  },
  {
   "cell_type": "code",
   "execution_count": 201,
   "metadata": {},
   "outputs": [],
   "source": [
    "pca_glmpredict = sj_pca_glmpred.unionAll(iq_pca_glmpred)"
   ]
  },
  {
   "cell_type": "code",
   "execution_count": 202,
   "metadata": {},
   "outputs": [],
   "source": [
    "z = pca_glmpredict.withColumn(\"total_cases\", round(col(\"prediction\"))).select(\"city\", \"year\", \"weekofyear\", \"total_cases\")"
   ]
  },
  {
   "cell_type": "code",
   "execution_count": 203,
   "metadata": {},
   "outputs": [],
   "source": [
    "z_pd = z.toPandas()"
   ]
  },
  {
   "cell_type": "code",
   "execution_count": 204,
   "metadata": {},
   "outputs": [],
   "source": [
    "z_pd.total_cases = z_pd.total_cases.astype(int)"
   ]
  },
  {
   "cell_type": "code",
   "execution_count": 205,
   "metadata": {},
   "outputs": [],
   "source": [
    "z_pd.to_csv(\"GLMresult.csv\", index=False)"
   ]
  },
  {
   "cell_type": "code",
   "execution_count": null,
   "metadata": {},
   "outputs": [],
   "source": [
    ""
   ]
  }
 ],
 "metadata": {
  "kernelspec": {
   "display_name": "Python 2",
   "language": "python",
   "name": "python2"
  },
  "language_info": {
   "codemirror_mode": {
    "name": "ipython",
    "version": 2.0
   },
   "file_extension": ".py",
   "mimetype": "text/x-python",
   "name": "python",
   "nbconvert_exporter": "python",
   "pygments_lexer": "ipython2",
   "version": "2.7.6"
  }
 },
 "nbformat": 4,
 "nbformat_minor": 0
}